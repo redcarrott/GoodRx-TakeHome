{
 "cells": [
  {
   "cell_type": "markdown",
   "id": "bd1e4851",
   "metadata": {},
   "source": [
    "### Instructions\n",
    "\n",
    "Thank you for your interest in GoodRx! The next step in the Operations Associate interview process is a take-home exercise. Aim to spend no more than 1.5 hours on this exercise. \n",
    "\n",
    "\n",
    "One of the responsibilities of the Operations Associate will be to help track and draw insights about clinician activity on our platform. \n",
    "\n",
    "Please reference the “Take-Home_Terminated Providers” spreadsheet, which contains hypothetical data including which group the provider is in, start date, termination date, and termination reason. Create a 1 - 2 page report or slide deck with an analysis of these terminations and your recommendations. "
   ]
  },
  {
   "cell_type": "markdown",
   "id": "7bdc1b4c",
   "metadata": {},
   "source": [
    "### Start EDA \n",
    "Exploratory Data Analysis"
   ]
  },
  {
   "cell_type": "code",
   "execution_count": 95,
   "id": "60dcbe38",
   "metadata": {},
   "outputs": [],
   "source": [
    "import pandas as pd\n",
    "import numpy as np\n",
    "import matplotlib.pyplot as plt"
   ]
  },
  {
   "cell_type": "code",
   "execution_count": 4,
   "id": "6cc4cc66",
   "metadata": {
    "scrolled": false
   },
   "outputs": [
    {
     "data": {
      "text/html": [
       "<div>\n",
       "<style scoped>\n",
       "    .dataframe tbody tr th:only-of-type {\n",
       "        vertical-align: middle;\n",
       "    }\n",
       "\n",
       "    .dataframe tbody tr th {\n",
       "        vertical-align: top;\n",
       "    }\n",
       "\n",
       "    .dataframe thead th {\n",
       "        text-align: right;\n",
       "    }\n",
       "</style>\n",
       "<table border=\"1\" class=\"dataframe\">\n",
       "  <thead>\n",
       "    <tr style=\"text-align: right;\">\n",
       "      <th></th>\n",
       "      <th>Provider ID</th>\n",
       "      <th>Provider Group</th>\n",
       "      <th>Start Date</th>\n",
       "      <th>Termination Date</th>\n",
       "      <th>Termination Reason</th>\n",
       "    </tr>\n",
       "  </thead>\n",
       "  <tbody>\n",
       "    <tr>\n",
       "      <th>0</th>\n",
       "      <td>ID1</td>\n",
       "      <td>Group A</td>\n",
       "      <td>2020-04-28</td>\n",
       "      <td>2021-05-17</td>\n",
       "      <td>Provider chose to leave</td>\n",
       "    </tr>\n",
       "    <tr>\n",
       "      <th>1</th>\n",
       "      <td>ID2</td>\n",
       "      <td>Group A</td>\n",
       "      <td>2019-09-16</td>\n",
       "      <td>2021-05-17</td>\n",
       "      <td>Medical error</td>\n",
       "    </tr>\n",
       "    <tr>\n",
       "      <th>2</th>\n",
       "      <td>ID3</td>\n",
       "      <td>Group A</td>\n",
       "      <td>2020-03-18</td>\n",
       "      <td>2021-05-17</td>\n",
       "      <td>Provider chose to leave</td>\n",
       "    </tr>\n",
       "    <tr>\n",
       "      <th>3</th>\n",
       "      <td>ID4</td>\n",
       "      <td>Group B</td>\n",
       "      <td>2020-02-27</td>\n",
       "      <td>2021-05-16</td>\n",
       "      <td>Not a good fit</td>\n",
       "    </tr>\n",
       "    <tr>\n",
       "      <th>4</th>\n",
       "      <td>ID5</td>\n",
       "      <td>Group B</td>\n",
       "      <td>2020-11-02</td>\n",
       "      <td>2021-05-16</td>\n",
       "      <td>Provider chose to leave</td>\n",
       "    </tr>\n",
       "    <tr>\n",
       "      <th>...</th>\n",
       "      <td>...</td>\n",
       "      <td>...</td>\n",
       "      <td>...</td>\n",
       "      <td>...</td>\n",
       "      <td>...</td>\n",
       "    </tr>\n",
       "    <tr>\n",
       "      <th>123</th>\n",
       "      <td>ID156</td>\n",
       "      <td>Group A</td>\n",
       "      <td>2019-12-18</td>\n",
       "      <td>2020-01-01</td>\n",
       "      <td>Not a good fit</td>\n",
       "    </tr>\n",
       "    <tr>\n",
       "      <th>124</th>\n",
       "      <td>ID157</td>\n",
       "      <td>Group A</td>\n",
       "      <td>2019-12-18</td>\n",
       "      <td>2019-12-21</td>\n",
       "      <td>Provider chose to leave</td>\n",
       "    </tr>\n",
       "    <tr>\n",
       "      <th>125</th>\n",
       "      <td>ID158</td>\n",
       "      <td>Group A</td>\n",
       "      <td>2019-12-27</td>\n",
       "      <td>2019-12-01</td>\n",
       "      <td>Not a good fit</td>\n",
       "    </tr>\n",
       "    <tr>\n",
       "      <th>126</th>\n",
       "      <td>ID167</td>\n",
       "      <td>Group A</td>\n",
       "      <td>2019-05-24</td>\n",
       "      <td>2019-09-09</td>\n",
       "      <td>Provider chose to leave</td>\n",
       "    </tr>\n",
       "    <tr>\n",
       "      <th>127</th>\n",
       "      <td>ID177</td>\n",
       "      <td>Group A</td>\n",
       "      <td>2019-12-18</td>\n",
       "      <td>2019-03-03</td>\n",
       "      <td>Medical error</td>\n",
       "    </tr>\n",
       "  </tbody>\n",
       "</table>\n",
       "<p>128 rows × 5 columns</p>\n",
       "</div>"
      ],
      "text/plain": [
       "    Provider ID Provider Group Start Date Termination Date  \\\n",
       "0           ID1        Group A 2020-04-28       2021-05-17   \n",
       "1           ID2        Group A 2019-09-16       2021-05-17   \n",
       "2           ID3        Group A 2020-03-18       2021-05-17   \n",
       "3           ID4        Group B 2020-02-27       2021-05-16   \n",
       "4           ID5        Group B 2020-11-02       2021-05-16   \n",
       "..          ...            ...        ...              ...   \n",
       "123       ID156        Group A 2019-12-18       2020-01-01   \n",
       "124       ID157        Group A 2019-12-18       2019-12-21   \n",
       "125       ID158        Group A 2019-12-27       2019-12-01   \n",
       "126       ID167        Group A 2019-05-24       2019-09-09   \n",
       "127       ID177        Group A 2019-12-18       2019-03-03   \n",
       "\n",
       "          Termination Reason  \n",
       "0    Provider chose to leave  \n",
       "1              Medical error  \n",
       "2    Provider chose to leave  \n",
       "3             Not a good fit  \n",
       "4    Provider chose to leave  \n",
       "..                       ...  \n",
       "123           Not a good fit  \n",
       "124  Provider chose to leave  \n",
       "125           Not a good fit  \n",
       "126  Provider chose to leave  \n",
       "127            Medical error  \n",
       "\n",
       "[128 rows x 5 columns]"
      ]
     },
     "execution_count": 4,
     "metadata": {},
     "output_type": "execute_result"
    }
   ],
   "source": [
    "df = pd.read_excel('Take-Home_Terminated Providers (1) (1).xlsx')\n",
    "df"
   ]
  },
  {
   "cell_type": "code",
   "execution_count": 98,
   "id": "1ab7e878",
   "metadata": {},
   "outputs": [
    {
     "data": {
      "text/plain": [
       "(128, 6)"
      ]
     },
     "execution_count": 98,
     "metadata": {},
     "output_type": "execute_result"
    }
   ],
   "source": [
    "# Shape of our dataset\n",
    "df.shape"
   ]
  },
  {
   "cell_type": "code",
   "execution_count": 135,
   "id": "473fe2fb",
   "metadata": {},
   "outputs": [
    {
     "name": "stdout",
     "output_type": "stream",
     "text": [
      "<class 'pandas.core.frame.DataFrame'>\n",
      "RangeIndex: 128 entries, 0 to 127\n",
      "Data columns (total 6 columns):\n",
      " #   Column              Non-Null Count  Dtype         \n",
      "---  ------              --------------  -----         \n",
      " 0   Provider ID         128 non-null    object        \n",
      " 1   Provider Group      128 non-null    object        \n",
      " 2   Start Date          128 non-null    datetime64[ns]\n",
      " 3   Termination Date    128 non-null    datetime64[ns]\n",
      " 4   Termination Reason  128 non-null    object        \n",
      " 5   days                128 non-null    int64         \n",
      "dtypes: datetime64[ns](2), int64(1), object(3)\n",
      "memory usage: 6.1+ KB\n"
     ]
    }
   ],
   "source": [
    "# Info our dataset\n",
    "df.info()\n",
    "\n",
    "# Describe our dataset\n",
    "#df.describe()"
   ]
  },
  {
   "cell_type": "markdown",
   "id": "a9d86d32",
   "metadata": {},
   "source": [
    "check if there are **null values in each column**"
   ]
  },
  {
   "cell_type": "code",
   "execution_count": 17,
   "id": "0c1e5647",
   "metadata": {},
   "outputs": [
    {
     "name": "stdout",
     "output_type": "stream",
     "text": [
      "No null values in: Provider ID\n",
      "No null values in: Provider Group\n",
      "No null values in: Start Date\n",
      "No null values in: Termination Date\n",
      "No null values in: Termination Reason\n"
     ]
    }
   ],
   "source": [
    "columns = ['Provider ID', 'Provider Group', 'Start Date', 'Termination Date', 'Termination Reason']\n",
    "\n",
    "for col in columns:\n",
    "    if df[col].isnull().any() == True:\n",
    "        print(f'There is null values in:', col)\n",
    "    else: \n",
    "        print(f'No null values in:', col)"
   ]
  },
  {
   "cell_type": "code",
   "execution_count": 18,
   "id": "78053d95",
   "metadata": {},
   "outputs": [
    {
     "data": {
      "text/plain": [
       "array(['Group A', 'Group B', 'Group C'], dtype=object)"
      ]
     },
     "execution_count": 18,
     "metadata": {},
     "output_type": "execute_result"
    }
   ],
   "source": [
    "# the different provider groups\n",
    "df['Provider Group'].unique()"
   ]
  },
  {
   "cell_type": "code",
   "execution_count": 71,
   "id": "92fe348b",
   "metadata": {},
   "outputs": [
    {
     "name": "stdout",
     "output_type": "stream",
     "text": [
      "Earliest Start Date:  2019-01-02 00:00:00\n",
      "Latest Start Date:  2021-04-20 00:00:00\n",
      " \n",
      "Earliest Termination Date:  2019-03-03 00:00:00\n",
      "Latest Termination Date:  2021-05-17 00:00:00\n"
     ]
    }
   ],
   "source": [
    "# min + max of Start Date and Termination Date\n",
    "print(f'Earliest Start Date: ', min(df['Start Date']))\n",
    "print(f'Latest Start Date: ', max(df['Start Date']))\n",
    "print(' ')\n",
    "print(f'Earliest Termination Date: ', min(df['Termination Date']))\n",
    "print(f'Latest Termination Date: ', max(df['Termination Date']))"
   ]
  },
  {
   "cell_type": "markdown",
   "id": "124e1040",
   "metadata": {},
   "source": [
    "No weird Start or Termination Dates. Move forward"
   ]
  },
  {
   "cell_type": "markdown",
   "id": "0e2144be",
   "metadata": {},
   "source": [
    "add **new column \"days\"** to calculate how long the provider was with us"
   ]
  },
  {
   "cell_type": "code",
   "execution_count": 22,
   "id": "97f53b2a",
   "metadata": {},
   "outputs": [
    {
     "data": {
      "text/html": [
       "<div>\n",
       "<style scoped>\n",
       "    .dataframe tbody tr th:only-of-type {\n",
       "        vertical-align: middle;\n",
       "    }\n",
       "\n",
       "    .dataframe tbody tr th {\n",
       "        vertical-align: top;\n",
       "    }\n",
       "\n",
       "    .dataframe thead th {\n",
       "        text-align: right;\n",
       "    }\n",
       "</style>\n",
       "<table border=\"1\" class=\"dataframe\">\n",
       "  <thead>\n",
       "    <tr style=\"text-align: right;\">\n",
       "      <th></th>\n",
       "      <th>Provider ID</th>\n",
       "      <th>Provider Group</th>\n",
       "      <th>Start Date</th>\n",
       "      <th>Termination Date</th>\n",
       "      <th>Termination Reason</th>\n",
       "      <th>days</th>\n",
       "    </tr>\n",
       "  </thead>\n",
       "  <tbody>\n",
       "    <tr>\n",
       "      <th>0</th>\n",
       "      <td>ID1</td>\n",
       "      <td>Group A</td>\n",
       "      <td>2020-04-28</td>\n",
       "      <td>2021-05-17</td>\n",
       "      <td>Provider chose to leave</td>\n",
       "      <td>384</td>\n",
       "    </tr>\n",
       "    <tr>\n",
       "      <th>1</th>\n",
       "      <td>ID2</td>\n",
       "      <td>Group A</td>\n",
       "      <td>2019-09-16</td>\n",
       "      <td>2021-05-17</td>\n",
       "      <td>Medical error</td>\n",
       "      <td>609</td>\n",
       "    </tr>\n",
       "    <tr>\n",
       "      <th>2</th>\n",
       "      <td>ID3</td>\n",
       "      <td>Group A</td>\n",
       "      <td>2020-03-18</td>\n",
       "      <td>2021-05-17</td>\n",
       "      <td>Provider chose to leave</td>\n",
       "      <td>425</td>\n",
       "    </tr>\n",
       "    <tr>\n",
       "      <th>3</th>\n",
       "      <td>ID4</td>\n",
       "      <td>Group B</td>\n",
       "      <td>2020-02-27</td>\n",
       "      <td>2021-05-16</td>\n",
       "      <td>Not a good fit</td>\n",
       "      <td>444</td>\n",
       "    </tr>\n",
       "    <tr>\n",
       "      <th>4</th>\n",
       "      <td>ID5</td>\n",
       "      <td>Group B</td>\n",
       "      <td>2020-11-02</td>\n",
       "      <td>2021-05-16</td>\n",
       "      <td>Provider chose to leave</td>\n",
       "      <td>195</td>\n",
       "    </tr>\n",
       "    <tr>\n",
       "      <th>...</th>\n",
       "      <td>...</td>\n",
       "      <td>...</td>\n",
       "      <td>...</td>\n",
       "      <td>...</td>\n",
       "      <td>...</td>\n",
       "      <td>...</td>\n",
       "    </tr>\n",
       "    <tr>\n",
       "      <th>123</th>\n",
       "      <td>ID156</td>\n",
       "      <td>Group A</td>\n",
       "      <td>2019-12-18</td>\n",
       "      <td>2020-01-01</td>\n",
       "      <td>Not a good fit</td>\n",
       "      <td>14</td>\n",
       "    </tr>\n",
       "    <tr>\n",
       "      <th>124</th>\n",
       "      <td>ID157</td>\n",
       "      <td>Group A</td>\n",
       "      <td>2019-12-18</td>\n",
       "      <td>2019-12-21</td>\n",
       "      <td>Provider chose to leave</td>\n",
       "      <td>3</td>\n",
       "    </tr>\n",
       "    <tr>\n",
       "      <th>125</th>\n",
       "      <td>ID158</td>\n",
       "      <td>Group A</td>\n",
       "      <td>2019-12-27</td>\n",
       "      <td>2019-12-01</td>\n",
       "      <td>Not a good fit</td>\n",
       "      <td>-26</td>\n",
       "    </tr>\n",
       "    <tr>\n",
       "      <th>126</th>\n",
       "      <td>ID167</td>\n",
       "      <td>Group A</td>\n",
       "      <td>2019-05-24</td>\n",
       "      <td>2019-09-09</td>\n",
       "      <td>Provider chose to leave</td>\n",
       "      <td>108</td>\n",
       "    </tr>\n",
       "    <tr>\n",
       "      <th>127</th>\n",
       "      <td>ID177</td>\n",
       "      <td>Group A</td>\n",
       "      <td>2019-12-18</td>\n",
       "      <td>2019-03-03</td>\n",
       "      <td>Medical error</td>\n",
       "      <td>-290</td>\n",
       "    </tr>\n",
       "  </tbody>\n",
       "</table>\n",
       "<p>128 rows × 6 columns</p>\n",
       "</div>"
      ],
      "text/plain": [
       "    Provider ID Provider Group Start Date Termination Date  \\\n",
       "0           ID1        Group A 2020-04-28       2021-05-17   \n",
       "1           ID2        Group A 2019-09-16       2021-05-17   \n",
       "2           ID3        Group A 2020-03-18       2021-05-17   \n",
       "3           ID4        Group B 2020-02-27       2021-05-16   \n",
       "4           ID5        Group B 2020-11-02       2021-05-16   \n",
       "..          ...            ...        ...              ...   \n",
       "123       ID156        Group A 2019-12-18       2020-01-01   \n",
       "124       ID157        Group A 2019-12-18       2019-12-21   \n",
       "125       ID158        Group A 2019-12-27       2019-12-01   \n",
       "126       ID167        Group A 2019-05-24       2019-09-09   \n",
       "127       ID177        Group A 2019-12-18       2019-03-03   \n",
       "\n",
       "          Termination Reason  days  \n",
       "0    Provider chose to leave   384  \n",
       "1              Medical error   609  \n",
       "2    Provider chose to leave   425  \n",
       "3             Not a good fit   444  \n",
       "4    Provider chose to leave   195  \n",
       "..                       ...   ...  \n",
       "123           Not a good fit    14  \n",
       "124  Provider chose to leave     3  \n",
       "125           Not a good fit   -26  \n",
       "126  Provider chose to leave   108  \n",
       "127            Medical error  -290  \n",
       "\n",
       "[128 rows x 6 columns]"
      ]
     },
     "execution_count": 22,
     "metadata": {},
     "output_type": "execute_result"
    }
   ],
   "source": [
    "df['days'] = (df['Termination Date'] - df['Start Date']).dt.days\n",
    "df"
   ]
  },
  {
   "cell_type": "markdown",
   "id": "af044bf9",
   "metadata": {},
   "source": [
    "**negative days??** (Is this an error?) How many of these do we have + which are they"
   ]
  },
  {
   "cell_type": "code",
   "execution_count": 25,
   "id": "4deba069",
   "metadata": {},
   "outputs": [
    {
     "data": {
      "text/html": [
       "<div>\n",
       "<style scoped>\n",
       "    .dataframe tbody tr th:only-of-type {\n",
       "        vertical-align: middle;\n",
       "    }\n",
       "\n",
       "    .dataframe tbody tr th {\n",
       "        vertical-align: top;\n",
       "    }\n",
       "\n",
       "    .dataframe thead th {\n",
       "        text-align: right;\n",
       "    }\n",
       "</style>\n",
       "<table border=\"1\" class=\"dataframe\">\n",
       "  <thead>\n",
       "    <tr style=\"text-align: right;\">\n",
       "      <th></th>\n",
       "      <th>Provider ID</th>\n",
       "      <th>Provider Group</th>\n",
       "      <th>Start Date</th>\n",
       "      <th>Termination Date</th>\n",
       "      <th>Termination Reason</th>\n",
       "      <th>days</th>\n",
       "    </tr>\n",
       "  </thead>\n",
       "  <tbody>\n",
       "    <tr>\n",
       "      <th>119</th>\n",
       "      <td>ID147</td>\n",
       "      <td>Group B</td>\n",
       "      <td>2020-04-07</td>\n",
       "      <td>2020-04-01</td>\n",
       "      <td>Provider chose to leave</td>\n",
       "      <td>-6</td>\n",
       "    </tr>\n",
       "    <tr>\n",
       "      <th>125</th>\n",
       "      <td>ID158</td>\n",
       "      <td>Group A</td>\n",
       "      <td>2019-12-27</td>\n",
       "      <td>2019-12-01</td>\n",
       "      <td>Not a good fit</td>\n",
       "      <td>-26</td>\n",
       "    </tr>\n",
       "    <tr>\n",
       "      <th>127</th>\n",
       "      <td>ID177</td>\n",
       "      <td>Group A</td>\n",
       "      <td>2019-12-18</td>\n",
       "      <td>2019-03-03</td>\n",
       "      <td>Medical error</td>\n",
       "      <td>-290</td>\n",
       "    </tr>\n",
       "  </tbody>\n",
       "</table>\n",
       "</div>"
      ],
      "text/plain": [
       "    Provider ID Provider Group Start Date Termination Date  \\\n",
       "119       ID147        Group B 2020-04-07       2020-04-01   \n",
       "125       ID158        Group A 2019-12-27       2019-12-01   \n",
       "127       ID177        Group A 2019-12-18       2019-03-03   \n",
       "\n",
       "          Termination Reason  days  \n",
       "119  Provider chose to leave    -6  \n",
       "125           Not a good fit   -26  \n",
       "127            Medical error  -290  "
      ]
     },
     "execution_count": 25,
     "metadata": {},
     "output_type": "execute_result"
    }
   ],
   "source": [
    "df[df['days'] < 0]"
   ]
  },
  {
   "cell_type": "markdown",
   "id": "a913415a",
   "metadata": {},
   "source": [
    "Moving forward, these 3 rows will be dropped from analysis until further confirmation."
   ]
  },
  {
   "cell_type": "code",
   "execution_count": 31,
   "id": "6aaa9efd",
   "metadata": {},
   "outputs": [
    {
     "data": {
      "text/html": [
       "<div>\n",
       "<style scoped>\n",
       "    .dataframe tbody tr th:only-of-type {\n",
       "        vertical-align: middle;\n",
       "    }\n",
       "\n",
       "    .dataframe tbody tr th {\n",
       "        vertical-align: top;\n",
       "    }\n",
       "\n",
       "    .dataframe thead th {\n",
       "        text-align: right;\n",
       "    }\n",
       "</style>\n",
       "<table border=\"1\" class=\"dataframe\">\n",
       "  <thead>\n",
       "    <tr style=\"text-align: right;\">\n",
       "      <th></th>\n",
       "      <th>Provider ID</th>\n",
       "      <th>Provider Group</th>\n",
       "      <th>Start Date</th>\n",
       "      <th>Termination Date</th>\n",
       "      <th>Termination Reason</th>\n",
       "      <th>days</th>\n",
       "    </tr>\n",
       "  </thead>\n",
       "  <tbody>\n",
       "    <tr>\n",
       "      <th>0</th>\n",
       "      <td>ID1</td>\n",
       "      <td>Group A</td>\n",
       "      <td>2020-04-28</td>\n",
       "      <td>2021-05-17</td>\n",
       "      <td>Provider chose to leave</td>\n",
       "      <td>384</td>\n",
       "    </tr>\n",
       "    <tr>\n",
       "      <th>1</th>\n",
       "      <td>ID2</td>\n",
       "      <td>Group A</td>\n",
       "      <td>2019-09-16</td>\n",
       "      <td>2021-05-17</td>\n",
       "      <td>Medical error</td>\n",
       "      <td>609</td>\n",
       "    </tr>\n",
       "    <tr>\n",
       "      <th>2</th>\n",
       "      <td>ID3</td>\n",
       "      <td>Group A</td>\n",
       "      <td>2020-03-18</td>\n",
       "      <td>2021-05-17</td>\n",
       "      <td>Provider chose to leave</td>\n",
       "      <td>425</td>\n",
       "    </tr>\n",
       "    <tr>\n",
       "      <th>3</th>\n",
       "      <td>ID4</td>\n",
       "      <td>Group B</td>\n",
       "      <td>2020-02-27</td>\n",
       "      <td>2021-05-16</td>\n",
       "      <td>Not a good fit</td>\n",
       "      <td>444</td>\n",
       "    </tr>\n",
       "    <tr>\n",
       "      <th>4</th>\n",
       "      <td>ID5</td>\n",
       "      <td>Group B</td>\n",
       "      <td>2020-11-02</td>\n",
       "      <td>2021-05-16</td>\n",
       "      <td>Provider chose to leave</td>\n",
       "      <td>195</td>\n",
       "    </tr>\n",
       "    <tr>\n",
       "      <th>...</th>\n",
       "      <td>...</td>\n",
       "      <td>...</td>\n",
       "      <td>...</td>\n",
       "      <td>...</td>\n",
       "      <td>...</td>\n",
       "      <td>...</td>\n",
       "    </tr>\n",
       "    <tr>\n",
       "      <th>121</th>\n",
       "      <td>ID153</td>\n",
       "      <td>Group A</td>\n",
       "      <td>2020-01-14</td>\n",
       "      <td>2020-02-07</td>\n",
       "      <td>Provider chose to leave</td>\n",
       "      <td>24</td>\n",
       "    </tr>\n",
       "    <tr>\n",
       "      <th>122</th>\n",
       "      <td>ID154</td>\n",
       "      <td>Group A</td>\n",
       "      <td>2019-11-14</td>\n",
       "      <td>2020-01-24</td>\n",
       "      <td>Provider chose to leave</td>\n",
       "      <td>71</td>\n",
       "    </tr>\n",
       "    <tr>\n",
       "      <th>123</th>\n",
       "      <td>ID156</td>\n",
       "      <td>Group A</td>\n",
       "      <td>2019-12-18</td>\n",
       "      <td>2020-01-01</td>\n",
       "      <td>Not a good fit</td>\n",
       "      <td>14</td>\n",
       "    </tr>\n",
       "    <tr>\n",
       "      <th>124</th>\n",
       "      <td>ID157</td>\n",
       "      <td>Group A</td>\n",
       "      <td>2019-12-18</td>\n",
       "      <td>2019-12-21</td>\n",
       "      <td>Provider chose to leave</td>\n",
       "      <td>3</td>\n",
       "    </tr>\n",
       "    <tr>\n",
       "      <th>126</th>\n",
       "      <td>ID167</td>\n",
       "      <td>Group A</td>\n",
       "      <td>2019-05-24</td>\n",
       "      <td>2019-09-09</td>\n",
       "      <td>Provider chose to leave</td>\n",
       "      <td>108</td>\n",
       "    </tr>\n",
       "  </tbody>\n",
       "</table>\n",
       "<p>125 rows × 6 columns</p>\n",
       "</div>"
      ],
      "text/plain": [
       "    Provider ID Provider Group Start Date Termination Date  \\\n",
       "0           ID1        Group A 2020-04-28       2021-05-17   \n",
       "1           ID2        Group A 2019-09-16       2021-05-17   \n",
       "2           ID3        Group A 2020-03-18       2021-05-17   \n",
       "3           ID4        Group B 2020-02-27       2021-05-16   \n",
       "4           ID5        Group B 2020-11-02       2021-05-16   \n",
       "..          ...            ...        ...              ...   \n",
       "121       ID153        Group A 2020-01-14       2020-02-07   \n",
       "122       ID154        Group A 2019-11-14       2020-01-24   \n",
       "123       ID156        Group A 2019-12-18       2020-01-01   \n",
       "124       ID157        Group A 2019-12-18       2019-12-21   \n",
       "126       ID167        Group A 2019-05-24       2019-09-09   \n",
       "\n",
       "          Termination Reason  days  \n",
       "0    Provider chose to leave   384  \n",
       "1              Medical error   609  \n",
       "2    Provider chose to leave   425  \n",
       "3             Not a good fit   444  \n",
       "4    Provider chose to leave   195  \n",
       "..                       ...   ...  \n",
       "121  Provider chose to leave    24  \n",
       "122  Provider chose to leave    71  \n",
       "123           Not a good fit    14  \n",
       "124  Provider chose to leave     3  \n",
       "126  Provider chose to leave   108  \n",
       "\n",
       "[125 rows x 6 columns]"
      ]
     },
     "execution_count": 31,
     "metadata": {},
     "output_type": "execute_result"
    }
   ],
   "source": [
    "# drop negative days rows (by index)\n",
    "# rename to df_2 (df is original dataset, no drop)\n",
    "df_2 = df.drop([119, 125, 127])\n",
    "df_2"
   ]
  },
  {
   "cell_type": "markdown",
   "id": "ed28b89d",
   "metadata": {},
   "source": [
    "### Visualizations of data"
   ]
  },
  {
   "cell_type": "code",
   "execution_count": 137,
   "id": "a3cfe1b5",
   "metadata": {},
   "outputs": [
    {
     "data": {
      "image/png": "[encoded data removed]",
      "text/plain": [
       "<Figure size 432x288 with 1 Axes>"
      ]
     },
     "metadata": {
      "needs_background": "light"
     },
     "output_type": "display_data"
    }
   ],
   "source": [
    "# histogram of how long physicians are with us\n",
    "plt.hist(df_2['days'], color='gray')\n",
    "plt.title(\"Distribution of # of days (length of provider employment)\")\n",
    "plt.xlabel(\"Days\")\n",
    "plt.ylabel(\"Count\")\n",
    "plt.show()"
   ]
  },
  {
   "cell_type": "code",
   "execution_count": 148,
   "id": "3a0871a7",
   "metadata": {},
   "outputs": [
    {
     "name": "stdout",
     "output_type": "stream",
     "text": [
      "# of providers who stay for over 1 year: 21\n",
      "This makes up 16.8 % of the whole dataset.\n"
     ]
    }
   ],
   "source": [
    "# how many (%) providers stays with GoodRx over 1 year (365 days)\n",
    "num_providers = len(df_2[df_2['days'] > 365])\n",
    "percentage = (num_providers / len(df_2['days'])) *100\n",
    "print(f'# of providers who stay for over 1 year:', num_providers)\n",
    "print(f'This makes up', percentage, '% of the whole dataset.')"
   ]
  },
  {
   "cell_type": "code",
   "execution_count": 140,
   "id": "31a56632",
   "metadata": {},
   "outputs": [
    {
     "data": {
      "image/png": "[encoded data removed]",
      "text/plain": [
       "<Figure size 432x288 with 1 Axes>"
      ]
     },
     "metadata": {
      "needs_background": "light"
     },
     "output_type": "display_data"
    }
   ],
   "source": [
    "# bar plot of how long physicians are with us segmented by Provider Group\n",
    "plt.bar(df_2['Provider Group'], df_2['days'], color='darkgray')\n",
    "plt.title(\"Number of days (length of provider employment) per Provider Group\")\n",
    "plt.ylabel(\"# of days\")\n",
    "plt.show()"
   ]
  },
  {
   "cell_type": "markdown",
   "id": "c3df3fbb",
   "metadata": {},
   "source": [
    "Group A has the most days with us, but is this driven by bigger number of providers?"
   ]
  },
  {
   "cell_type": "code",
   "execution_count": 65,
   "id": "81c5139a",
   "metadata": {},
   "outputs": [
    {
     "name": "stdout",
     "output_type": "stream",
     "text": [
      "Number of providers in Group A :  36\n",
      "Number of providers in Group B :  83\n",
      "Number of providers in Group C :  6\n"
     ]
    }
   ],
   "source": [
    "for group in provider_groups:\n",
    "    print(f'Number of providers in', group, ': ', len(df_2[df_2['Provider Group'] == group]))"
   ]
  },
  {
   "cell_type": "markdown",
   "id": "90530b96",
   "metadata": {},
   "source": [
    "No, Group A and Group C have large amounts of days with significantly less providers than Group B. The turnover rate for Group B seems to be unusually high. Let's take a deeper dive into Group B"
   ]
  },
  {
   "cell_type": "markdown",
   "id": "c07e90e8",
   "metadata": {},
   "source": [
    "### Focus on high turnover rate Group B"
   ]
  },
  {
   "cell_type": "code",
   "execution_count": 128,
   "id": "88943a88",
   "metadata": {},
   "outputs": [
    {
     "data": {
      "image/png": "[encoded data removed]",
      "text/plain": [
       "<Figure size 432x288 with 1 Axes>"
      ]
     },
     "metadata": {
      "needs_background": "light"
     },
     "output_type": "display_data"
    }
   ],
   "source": [
    "# Group B termination reason \n",
    "df_GroupB = df_2[df_2['Provider Group']=='Group B']\n",
    "\n",
    "plt.hist(df_GroupB['Termination Reason'], color='tab:brown')\n",
    "plt.title(\"Distribution of Termination Reason\")\n",
    "#plt.xlabel(\"Termination Reason\")\n",
    "plt.ylabel(\"Count\")\n",
    "plt.show()"
   ]
  },
  {
   "cell_type": "code",
   "execution_count": 149,
   "id": "bbceb8f3",
   "metadata": {},
   "outputs": [
    {
     "name": "stdout",
     "output_type": "stream",
     "text": [
      "# of providers who chose to leave: 43\n",
      "This makes up 51.80722891566265 % of the Group B dataset.\n"
     ]
    }
   ],
   "source": [
    "# how many (%) of providers in Group B leave due to \"Provider chose to leave\"\n",
    "num_providers = len(df_GroupB[df_GroupB['Termination Reason'] == \"Provider chose to leave\"])\n",
    "percentage = (num_providers / len(df_GroupB['Termination Reason'])) *100\n",
    "print(f'# of providers who chose to leave:', num_providers)\n",
    "print(f'This makes up', percentage, '% of the Group B dataset.')"
   ]
  },
  {
   "cell_type": "markdown",
   "id": "6cc3145c",
   "metadata": {},
   "source": [
    "compare this to other Groups (A and C)"
   ]
  },
  {
   "cell_type": "code",
   "execution_count": 94,
   "id": "634e3d50",
   "metadata": {},
   "outputs": [
    {
     "data": {
      "image/png": "[encoded data removed]",
      "text/plain": [
       "<Figure size 432x288 with 1 Axes>"
      ]
     },
     "metadata": {
      "needs_background": "light"
     },
     "output_type": "display_data"
    }
   ],
   "source": [
    "# Compare different Group termination reason \n",
    "df_GroupB = df_2[df_2['Provider Group']=='Group B']\n",
    "df_GroupA = df_2[df_2['Provider Group']=='Group A']\n",
    "df_GroupC = df_2[df_2['Provider Group']=='Group C']\n",
    "\n",
    "#fig, ax1 = plt.subplots()\n",
    "plt.hist([df_GroupB['Termination Reason'], df_GroupA['Termination Reason'], df_GroupC['Termination Reason']], \n",
    "        label=['Group B', 'Group A', 'Group C'])\n",
    "plt.title(\"Distribution of Termination Reason\")\n",
    "#plt.xlabel(\"Termination Reason\")\n",
    "plt.legend()\n",
    "plt.ylabel(\"Count\")\n",
    "plt.show()"
   ]
  },
  {
   "cell_type": "markdown",
   "id": "6674b5af",
   "metadata": {},
   "source": [
    "Trends are similar for all 3 groups, so let's look at the relationship between Termination Reason and days "
   ]
  },
  {
   "cell_type": "code",
   "execution_count": 131,
   "id": "88ca4cae",
   "metadata": {},
   "outputs": [
    {
     "data": {
      "image/png": "[encoded data removed]",
      "text/plain": [
       "<Figure size 432x288 with 1 Axes>"
      ]
     },
     "metadata": {
      "needs_background": "light"
     },
     "output_type": "display_data"
    },
    {
     "data": {
      "image/png": "[encoded data removed]",
      "text/plain": [
       "<Figure size 432x288 with 1 Axes>"
      ]
     },
     "metadata": {
      "needs_background": "light"
     },
     "output_type": "display_data"
    },
    {
     "data": {
      "image/png": "[encoded data removed]",
      "text/plain": [
       "<Figure size 432x288 with 1 Axes>"
      ]
     },
     "metadata": {
      "needs_background": "light"
     },
     "output_type": "display_data"
    }
   ],
   "source": [
    "plt.hist(df_2[df_2['Termination Reason']=='Not a good fit']['days'], color='tab:purple')\n",
    "plt.title(\"Distribution of Termination Reason = 'Not a good fit'\")\n",
    "plt.xlabel(\"Days\")\n",
    "plt.ylabel(\"Count\")\n",
    "plt.show()\n",
    "\n",
    "plt.hist(df_2[df_2['Termination Reason']=='Provider chose to leave']['days'], color='tab:purple')\n",
    "plt.title(\"Distribution of Termination Reason = 'Provider chose to leave'\")\n",
    "plt.xlabel(\"Days\")\n",
    "plt.ylabel(\"Count\")\n",
    "plt.show()\n",
    "\n",
    "plt.hist(df_2[df_2['Termination Reason']=='Medical error']['days'], color='tab:purple')\n",
    "plt.title(\"Distribution of Termination Reason = 'Medical error'\")\n",
    "plt.xlabel(\"Days\")\n",
    "plt.ylabel(\"Count\")\n",
    "plt.show()"
   ]
  },
  {
   "cell_type": "markdown",
   "id": "891bb013",
   "metadata": {},
   "source": [
    "Any differences when segmenting by **Group B**?"
   ]
  },
  {
   "cell_type": "code",
   "execution_count": 117,
   "id": "588a3c2c",
   "metadata": {},
   "outputs": [
    {
     "data": {
      "image/png": "[encoded data removed]",
      "text/plain": [
       "<Figure size 432x288 with 1 Axes>"
      ]
     },
     "metadata": {
      "needs_background": "light"
     },
     "output_type": "display_data"
    },
    {
     "data": {
      "image/png": "[encoded data removed]",
      "text/plain": [
       "<Figure size 432x288 with 1 Axes>"
      ]
     },
     "metadata": {
      "needs_background": "light"
     },
     "output_type": "display_data"
    },
    {
     "data": {
      "image/png": "[encoded data removed]",
      "text/plain": [
       "<Figure size 432x288 with 1 Axes>"
      ]
     },
     "metadata": {
      "needs_background": "light"
     },
     "output_type": "display_data"
    }
   ],
   "source": [
    "plt.hist(df_GroupB[df_GroupB['Termination Reason']=='Not a good fit']['days'])\n",
    "plt.title(\"Distribution of Termination Reason = 'Not a good fit'\")\n",
    "plt.xlabel(\"Days\")\n",
    "plt.ylabel(\"Count\")\n",
    "plt.show()\n",
    "\n",
    "plt.hist(df_GroupB[df_GroupB['Termination Reason']=='Provider chose to leave']['days'])\n",
    "plt.title(\"Distribution of Termination Reason = 'Provider chose to leave'\")\n",
    "plt.xlabel(\"Days\")\n",
    "plt.ylabel(\"Count\")\n",
    "plt.show()\n",
    "\n",
    "plt.hist(df_GroupB[df_GroupB['Termination Reason']=='Medical error']['days'])\n",
    "plt.title(\"Distribution of Termination Reason = 'Medical error'\")\n",
    "plt.xlabel(\"Days\")\n",
    "plt.ylabel(\"Count\")\n",
    "plt.show()"
   ]
  },
  {
   "cell_type": "markdown",
   "id": "b07cde78",
   "metadata": {},
   "source": [
    "Compare segmentation for all groups"
   ]
  },
  {
   "cell_type": "code",
   "execution_count": 159,
   "id": "c9b2d1c1",
   "metadata": {},
   "outputs": [
    {
     "data": {
      "image/png": "[encoded data removed]",
      "text/plain": [
       "<Figure size 432x288 with 1 Axes>"
      ]
     },
     "metadata": {
      "needs_background": "light"
     },
     "output_type": "display_data"
    },
    {
     "data": {
      "image/png": "[encoded data removed]",
      "text/plain": [
       "<Figure size 432x288 with 1 Axes>"
      ]
     },
     "metadata": {
      "needs_background": "light"
     },
     "output_type": "display_data"
    },
    {
     "data": {
      "image/png": "[encoded data removed]",
      "text/plain": [
       "<Figure size 432x288 with 1 Axes>"
      ]
     },
     "metadata": {
      "needs_background": "light"
     },
     "output_type": "display_data"
    }
   ],
   "source": [
    "plt.hist(df_GroupB[df_GroupB['Termination Reason']=='Not a good fit']['days'], \n",
    "         alpha=0.5, \n",
    "         label='Group B',\n",
    "         color='tab:blue')\n",
    "plt.hist(df_GroupA[df_GroupA['Termination Reason']=='Not a good fit']['days'], \n",
    "         alpha=0.5, \n",
    "         label='Group A',\n",
    "         color='tab:orange')\n",
    "plt.hist(df_GroupC[df_GroupC['Termination Reason']=='Not a good fit']['days'], \n",
    "         alpha=0.5, \n",
    "         label='Group C',\n",
    "         color='tab:green')\n",
    "plt.title(\"Distribution of Termination Reason = 'Not a good fit'\")\n",
    "plt.xlabel(\"Days\")\n",
    "plt.ylabel(\"Count\")\n",
    "plt.legend()\n",
    "plt.show()\n",
    "\n",
    "plt.hist(df_GroupB[df_GroupB['Termination Reason']=='Provider chose to leave']['days'], \n",
    "         alpha=0.5, \n",
    "         label='Group B',\n",
    "         color='tab:blue')\n",
    "plt.hist(df_GroupA[df_GroupA['Termination Reason']=='Provider chose to leave']['days'], \n",
    "         alpha=0.5, \n",
    "         label='Group A',\n",
    "         color='tab:orange')\n",
    "plt.hist(df_GroupC[df_GroupC['Termination Reason']=='Provider chose to leave']['days'], \n",
    "         alpha=0.5, \n",
    "         label='Group C',\n",
    "         color='tab:green')\n",
    "plt.title(\"Distribution of Termination Reason = 'Provider chose to leave'\")\n",
    "plt.xlabel(\"Days\")\n",
    "plt.ylabel(\"Count\")\n",
    "plt.legend()\n",
    "plt.show()\n",
    "\n",
    "plt.hist(df_GroupB[df_GroupB['Termination Reason']=='Medical error']['days'], \n",
    "         alpha=0.5, \n",
    "         label='Group B',\n",
    "         color='tab:blue')\n",
    "plt.hist(df_GroupA[df_GroupA['Termination Reason']=='Medical error']['days'], \n",
    "         alpha=0.5, \n",
    "         label='Group A',\n",
    "         color='tab:orange')\n",
    "plt.hist(df_GroupC[df_GroupC['Termination Reason']=='Medical error']['days'], \n",
    "         alpha=0.5, \n",
    "         label='Group C',\n",
    "         color='tab:green')\n",
    "plt.title(\"Distribution of Termination Reason = 'Medical error'\")\n",
    "plt.xlabel(\"Days\")\n",
    "plt.ylabel(\"Count\")\n",
    "plt.legend()\n",
    "plt.show()"
   ]
  },
  {
   "cell_type": "markdown",
   "id": "86c06977",
   "metadata": {},
   "source": [
    "**Group C** segmentation\n",
    "\n",
    "because numbers are so small, Group C is hard to see in the overlayed histograms."
   ]
  },
  {
   "cell_type": "code",
   "execution_count": 133,
   "id": "a63affeb",
   "metadata": {},
   "outputs": [
    {
     "data": {
      "image/png": "[encoded data removed]",
      "text/plain": [
       "<Figure size 432x288 with 1 Axes>"
      ]
     },
     "metadata": {
      "needs_background": "light"
     },
     "output_type": "display_data"
    },
    {
     "data": {
      "image/png": "[encoded data removed]",
      "text/plain": [
       "<Figure size 432x288 with 1 Axes>"
      ]
     },
     "metadata": {
      "needs_background": "light"
     },
     "output_type": "display_data"
    },
    {
     "data": {
      "image/png": "[encoded data removed]",
      "text/plain": [
       "<Figure size 432x288 with 1 Axes>"
      ]
     },
     "metadata": {
      "needs_background": "light"
     },
     "output_type": "display_data"
    }
   ],
   "source": [
    "plt.hist(df_GroupC[df_GroupC['Termination Reason']=='Not a good fit']['days'], color='tab:green')\n",
    "plt.title(\"Distribution of Termination Reason = 'Not a good fit'\")\n",
    "plt.xlabel(\"Days\")\n",
    "plt.ylabel(\"Count\")\n",
    "plt.show()\n",
    "\n",
    "plt.hist(df_GroupC[df_GroupC['Termination Reason']=='Provider chose to leave']['days'], color='tab:green')\n",
    "plt.title(\"Distribution of Termination Reason = 'Provider chose to leave'\")\n",
    "plt.xlabel(\"Days\")\n",
    "plt.ylabel(\"Count\")\n",
    "plt.show()\n",
    "\n",
    "plt.hist(df_GroupC[df_GroupC['Termination Reason']=='Medical error']['days'], color='tab:green')\n",
    "plt.title(\"Distribution of Termination Reason = 'Medical error'\")\n",
    "plt.xlabel(\"Days\")\n",
    "plt.ylabel(\"Count\")\n",
    "plt.show()"
   ]
  },
  {
   "cell_type": "code",
   "execution_count": null,
   "id": "754ca62f",
   "metadata": {},
   "outputs": [],
   "source": []
  },
  {
   "cell_type": "code",
   "execution_count": null,
   "id": "dfe64da0",
   "metadata": {},
   "outputs": [],
   "source": []
  }
 ],
 "metadata": {
  "kernelspec": {
   "display_name": "Python 3 (ipykernel)",
   "language": "python",
   "name": "python3"
  },
  "language_info": {
   "codemirror_mode": {
    "name": "ipython",
    "version": 3
   },
   "file_extension": ".py",
   "mimetype": "text/x-python",
   "name": "python",
   "nbconvert_exporter": "python",
   "pygments_lexer": "ipython3",
   "version": "3.9.7"
  }
 },
 "nbformat": 4,
 "nbformat_minor": 5
}
